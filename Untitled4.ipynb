{
 "cells": [
  {
   "cell_type": "code",
   "execution_count": 1,
   "id": "dca86102-366c-41d7-991d-4e885e28f282",
   "metadata": {},
   "outputs": [
    {
     "name": "stdout",
     "output_type": "stream",
     "text": [
      "Requirement already satisfied: requests in c:\\users\\hhhxf\\anaconda3\\lib\\site-packages (2.32.3)\n",
      "Requirement already satisfied: beautifulsoup4 in c:\\users\\hhhxf\\anaconda3\\lib\\site-packages (4.12.3)\n",
      "Requirement already satisfied: pandas in c:\\users\\hhhxf\\anaconda3\\lib\\site-packages (2.2.2)\n",
      "Requirement already satisfied: charset-normalizer<4,>=2 in c:\\users\\hhhxf\\anaconda3\\lib\\site-packages (from requests) (3.3.2)\n",
      "Requirement already satisfied: idna<4,>=2.5 in c:\\users\\hhhxf\\anaconda3\\lib\\site-packages (from requests) (3.7)\n",
      "Requirement already satisfied: urllib3<3,>=1.21.1 in c:\\users\\hhhxf\\anaconda3\\lib\\site-packages (from requests) (2.2.3)\n",
      "Requirement already satisfied: certifi>=2017.4.17 in c:\\users\\hhhxf\\anaconda3\\lib\\site-packages (from requests) (2024.8.30)\n",
      "Requirement already satisfied: soupsieve>1.2 in c:\\users\\hhhxf\\anaconda3\\lib\\site-packages (from beautifulsoup4) (2.5)\n",
      "Requirement already satisfied: numpy>=1.26.0 in c:\\users\\hhhxf\\anaconda3\\lib\\site-packages (from pandas) (1.26.4)\n",
      "Requirement already satisfied: python-dateutil>=2.8.2 in c:\\users\\hhhxf\\anaconda3\\lib\\site-packages (from pandas) (2.9.0.post0)\n",
      "Requirement already satisfied: pytz>=2020.1 in c:\\users\\hhhxf\\anaconda3\\lib\\site-packages (from pandas) (2024.1)\n",
      "Requirement already satisfied: tzdata>=2022.7 in c:\\users\\hhhxf\\anaconda3\\lib\\site-packages (from pandas) (2023.3)\n",
      "Requirement already satisfied: six>=1.5 in c:\\users\\hhhxf\\anaconda3\\lib\\site-packages (from python-dateutil>=2.8.2->pandas) (1.16.0)\n",
      "Note: you may need to restart the kernel to use updated packages.\n"
     ]
    }
   ],
   "source": [
    "pip install requests beautifulsoup4 pandas\n"
   ]
  },
  {
   "cell_type": "code",
   "execution_count": 9,
   "id": "e2842487-91e3-4849-ba9c-71556ec0c9b0",
   "metadata": {},
   "outputs": [
    {
     "name": "stdout",
     "output_type": "stream",
     "text": [
      "Daten gespeichert in quotes.csv\n"
     ]
    }
   ],
   "source": [
    "import requests\n",
    "from bs4 import BeautifulSoup\n",
    "import pandas as pd\n",
    "\n",
    "# URL der Zielseite\n",
    "URL = \"http://quotes.toscrape.com/\"\n",
    "\n",
    "# HTTP-Header\n",
    "HEADERS = {\n",
    "    \"User-Agent\": \"Mozilla/5.0 (Windows NT 10.0; Win64; x64) AppleWebKit/537.36 (KHTML, like Gecko) Chrome/115.0 Safari/537.36\"\n",
    "}\n",
    "\n",
    "def fetch_page(url):\n",
    "    \"\"\"Holt die HTML-Seite.\"\"\"\n",
    "    response = requests.get(url, headers=HEADERS)\n",
    "    if response.status_code == 200:\n",
    "        return response.text\n",
    "    else:\n",
    "        print(f\"Fehler: {response.status_code}\")\n",
    "        return None\n",
    "\n",
    "def parse_page(html):\n",
    "    \"\"\"Extrahiert Zitate, Autoren und Tags.\"\"\"\n",
    "    soup = BeautifulSoup(html, \"html.parser\")\n",
    "    quotes = []\n",
    "    for quote in soup.select(\".quote\"):\n",
    "        text = quote.select_one(\".text\").text.strip()\n",
    "        author = quote.select_one(\".author\").text.strip()\n",
    "        tags = [tag.text.strip() for tag in quote.select(\".tag\")]\n",
    "        quotes.append({\"Quote\": text, \"Author\": author, \"Tags\": \", \".join(tags)})\n",
    "    return quotes\n",
    "\n",
    "def save_to_csv(data, filename=\"quotes.csv\"):\n",
    "    \"\"\"Speichert Daten in einer CSV-Datei.\"\"\"\n",
    "    df = pd.DataFrame(data)\n",
    "    df.to_csv(filename, index=False)\n",
    "    print(f\"Daten gespeichert in {filename}\")\n",
    "\n",
    "# Ablauf\n",
    "if __name__ == \"__main__\":\n",
    "    # HTML-Seite abrufen\n",
    "    html_content = fetch_page(URL)\n",
    "    if html_content:\n",
    "        # Daten extrahieren\n",
    "        quotes_data = parse_page(html_content)\n",
    "        # Daten speichern\n",
    "        save_to_csv(quotes_data)\n"
   ]
  },
  {
   "cell_type": "code",
   "execution_count": 11,
   "id": "4a8bddca-2370-4c40-9be0-0de78967608d",
   "metadata": {},
   "outputs": [
    {
     "name": "stdout",
     "output_type": "stream",
     "text": [
      "                                               Quote           Author  \\\n",
      "0  “The world as we have created it is a process ...  Albert Einstein   \n",
      "1  “It is our choices, Harry, that show what we t...     J.K. Rowling   \n",
      "2  “There are only two ways to live your life. On...  Albert Einstein   \n",
      "3  “The person, be it gentleman or lady, who has ...      Jane Austen   \n",
      "4  “Imperfection is beauty, madness is genius and...   Marilyn Monroe   \n",
      "\n",
      "                                           Tags  \n",
      "0        change, deep-thoughts, thinking, world  \n",
      "1                            abilities, choices  \n",
      "2  inspirational, life, live, miracle, miracles  \n",
      "3              aliteracy, books, classic, humor  \n",
      "4                    be-yourself, inspirational  \n"
     ]
    }
   ],
   "source": [
    "df = pd.read_csv(\"quotes.csv\")\n",
    "print(df.head())\n"
   ]
  },
  {
   "cell_type": "markdown",
   "id": "f9366693-bb2a-40ae-8f71-00e4dc4876c9",
   "metadata": {},
   "source": [
    "# Web Scraper für Zitate\n",
    "\n",
    "Ein einfacher Web-Scraper, der Zitate, Autoren und Tags von der Website [Quotes to Scrape](http://quotes.toscrape.com) sammelt und in einer CSV-Datei speichert.\n",
    "\n",
    "## Anforderungen\n",
    "\n",
    "- Python 3.x\n",
    "- requests\n",
    "- beautifulsoup4\n",
    "- pandas\n",
    "\n",
    "## Installation\n",
    "\n",
    "1. Installiere die benötigten Python-Bibliotheken:\n",
    "   ```bash\n",
    "   pip install requests beautifulsoup4 pandas\n"
   ]
  },
  {
   "cell_type": "code",
   "execution_count": null,
   "id": "27bc9f0c-3ad8-4d85-baa3-074bd3ce9b5a",
   "metadata": {},
   "outputs": [],
   "source": []
  }
 ],
 "metadata": {
  "kernelspec": {
   "display_name": "Python 3 (ipykernel)",
   "language": "python",
   "name": "python3"
  },
  "language_info": {
   "codemirror_mode": {
    "name": "ipython",
    "version": 3
   },
   "file_extension": ".py",
   "mimetype": "text/x-python",
   "name": "python",
   "nbconvert_exporter": "python",
   "pygments_lexer": "ipython3",
   "version": "3.12.7"
  }
 },
 "nbformat": 4,
 "nbformat_minor": 5
}
